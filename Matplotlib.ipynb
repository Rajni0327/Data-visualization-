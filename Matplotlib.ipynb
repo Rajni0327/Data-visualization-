{
 "cells": [
  {
   "cell_type": "code",
   "execution_count": 5,
   "id": "4acb3d22-354b-4508-b8cb-f8b5b094dd63",
   "metadata": {},
   "outputs": [],
   "source": [
    "import pandas as pd\n",
    "import numpy as np \n",
    "import matplotlib.pyplot as plt"
   ]
  },
  {
   "cell_type": "code",
   "execution_count": null,
   "id": "3c21e792-1414-45e4-86dd-374ae204092d",
   "metadata": {},
   "outputs": [],
   "source": []
  },
  {
   "cell_type": "code",
   "execution_count": null,
   "id": "25fc3b52-c142-490d-bd92-ddf51eac8046",
   "metadata": {},
   "outputs": [],
   "source": []
  },
  {
   "cell_type": "markdown",
   "id": "9823efba-bb22-43a4-8a37-e67d4eea8733",
   "metadata": {},
   "source": [
    "# Matplotlib basics"
   ]
  },
  {
   "cell_type": "code",
   "execution_count": null,
   "id": "805646d2-34b7-4584-a4fd-b233cb9c0e1e",
   "metadata": {},
   "outputs": [],
   "source": []
  },
  {
   "cell_type": "markdown",
   "id": "50f77af5-e79d-47b7-b244-0416f38e97b0",
   "metadata": {},
   "source": [
    "# subplotes in matplotlib"
   ]
  },
  {
   "cell_type": "code",
   "execution_count": null,
   "id": "f54ed0a1-8ec9-463f-b8ee-b848efbb2c45",
   "metadata": {},
   "outputs": [],
   "source": []
  },
  {
   "cell_type": "markdown",
   "id": "c3876a58-22fd-4453-bb1c-84bc0765b98f",
   "metadata": {},
   "source": [
    "# object oriented way "
   ]
  },
  {
   "cell_type": "code",
   "execution_count": null,
   "id": "cec60f1f-048a-417c-8b3c-00d4d507ae4c",
   "metadata": {},
   "outputs": [],
   "source": []
  },
  {
   "cell_type": "markdown",
   "id": "ac8ad6fc-f742-4daf-bb10-ad7ab9e8eee6",
   "metadata": {},
   "source": [
    "# types of plots "
   ]
  },
  {
   "cell_type": "code",
   "execution_count": null,
   "id": "978fea22-c9fb-4978-bffb-e1830f7706de",
   "metadata": {},
   "outputs": [],
   "source": []
  },
  {
   "cell_type": "markdown",
   "id": "f5675d60-5332-419b-ae87-e5ebf713f7b6",
   "metadata": {},
   "source": [
    "# saving plots "
   ]
  },
  {
   "cell_type": "code",
   "execution_count": null,
   "id": "bf02c5a1-be73-409d-b801-53ba84be43bd",
   "metadata": {},
   "outputs": [],
   "source": []
  },
  {
   "cell_type": "markdown",
   "id": "1009b091-e1d6-41f6-894f-c2675be7162a",
   "metadata": {},
   "source": [
    "# working with images "
   ]
  },
  {
   "cell_type": "code",
   "execution_count": null,
   "id": "aceb01f6-95b4-47b1-8de5-25b4998fcc47",
   "metadata": {},
   "outputs": [],
   "source": []
  },
  {
   "cell_type": "markdown",
   "id": "5f34c9ee-195c-4e44-b57e-287fde0bc196",
   "metadata": {},
   "source": [
    "# Optional Designing "
   ]
  },
  {
   "cell_type": "code",
   "execution_count": null,
   "id": "38123d21-5ae6-439b-873e-fc298a54094f",
   "metadata": {},
   "outputs": [],
   "source": []
  },
  {
   "cell_type": "code",
   "execution_count": null,
   "id": "369e0d11-1c29-493e-8e0b-5693abb0640f",
   "metadata": {},
   "outputs": [],
   "source": []
  },
  {
   "cell_type": "code",
   "execution_count": null,
   "id": "a367b03c-92d9-4b31-8ab6-6592655f1909",
   "metadata": {},
   "outputs": [],
   "source": []
  },
  {
   "cell_type": "code",
   "execution_count": null,
   "id": "5c291b6b-7e39-4982-a13a-6bfa1237228a",
   "metadata": {},
   "outputs": [],
   "source": []
  },
  {
   "cell_type": "code",
   "execution_count": null,
   "id": "c9df706d-ba13-40c7-86b3-1276632bb379",
   "metadata": {},
   "outputs": [],
   "source": []
  },
  {
   "cell_type": "code",
   "execution_count": null,
   "id": "4b40ff24-bfce-4e49-b0a5-6c1a4337e951",
   "metadata": {},
   "outputs": [],
   "source": []
  },
  {
   "cell_type": "code",
   "execution_count": null,
   "id": "20c8f8e8-8192-49ff-bd74-827013bfd65d",
   "metadata": {},
   "outputs": [],
   "source": []
  },
  {
   "cell_type": "code",
   "execution_count": null,
   "id": "b7db47b6-d85b-4006-81b9-c71e790b3aae",
   "metadata": {},
   "outputs": [],
   "source": []
  },
  {
   "cell_type": "code",
   "execution_count": null,
   "id": "cc2cf4b6-1075-421b-b8d5-c0a154071fb0",
   "metadata": {},
   "outputs": [],
   "source": []
  },
  {
   "cell_type": "code",
   "execution_count": null,
   "id": "0e066161-a470-4281-865c-fd802cdc60e7",
   "metadata": {},
   "outputs": [],
   "source": []
  },
  {
   "cell_type": "code",
   "execution_count": null,
   "id": "7a377f4d-2fa0-49e0-b268-e0f0168f7e57",
   "metadata": {},
   "outputs": [],
   "source": []
  },
  {
   "cell_type": "code",
   "execution_count": null,
   "id": "47a621cd-0cd4-470c-9118-dcda269125fb",
   "metadata": {},
   "outputs": [],
   "source": []
  },
  {
   "cell_type": "code",
   "execution_count": null,
   "id": "bace38ec-ee17-4272-97fe-c5ea837d7a83",
   "metadata": {},
   "outputs": [],
   "source": []
  }
 ],
 "metadata": {
  "kernelspec": {
   "display_name": "Python [conda env:base] *",
   "language": "python",
   "name": "conda-base-py"
  },
  "language_info": {
   "codemirror_mode": {
    "name": "ipython",
    "version": 3
   },
   "file_extension": ".py",
   "mimetype": "text/x-python",
   "name": "python",
   "nbconvert_exporter": "python",
   "pygments_lexer": "ipython3",
   "version": "3.13.5"
  }
 },
 "nbformat": 4,
 "nbformat_minor": 5
}
